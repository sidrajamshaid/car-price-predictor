{
 "cells": [
  {
   "cell_type": "markdown",
   "id": "65275d05",
   "metadata": {},
   "source": [
    "**✅ Step 1: Import libraries and setup Environment**"
   ]
  },
  {
   "cell_type": "code",
   "execution_count": 23,
   "id": "1a479bd3",
   "metadata": {},
   "outputs": [
    {
     "name": "stdout",
     "output_type": "stream",
     "text": [
      "Requirement already satisfied: scikit-learn in /Users/sidra/Main Data Drive/Car Prediction Model/Final Project- Car Prediction Model/.venv/lib/python3.13/site-packages (1.6.1)\n",
      "Requirement already satisfied: numpy>=1.19.5 in /Users/sidra/Main Data Drive/Car Prediction Model/Final Project- Car Prediction Model/.venv/lib/python3.13/site-packages (from scikit-learn) (2.2.5)\n",
      "Requirement already satisfied: scipy>=1.6.0 in /Users/sidra/Main Data Drive/Car Prediction Model/Final Project- Car Prediction Model/.venv/lib/python3.13/site-packages (from scikit-learn) (1.15.3)\n",
      "Requirement already satisfied: joblib>=1.2.0 in /Users/sidra/Main Data Drive/Car Prediction Model/Final Project- Car Prediction Model/.venv/lib/python3.13/site-packages (from scikit-learn) (1.5.0)\n",
      "Requirement already satisfied: threadpoolctl>=3.1.0 in /Users/sidra/Main Data Drive/Car Prediction Model/Final Project- Car Prediction Model/.venv/lib/python3.13/site-packages (from scikit-learn) (3.6.0)\n",
      "Collecting matplotlib\n",
      "  Using cached matplotlib-3.10.3-cp313-cp313-macosx_11_0_arm64.whl.metadata (11 kB)\n",
      "Collecting contourpy>=1.0.1 (from matplotlib)\n",
      "  Using cached contourpy-1.3.2-cp313-cp313-macosx_11_0_arm64.whl.metadata (5.5 kB)\n",
      "Collecting cycler>=0.10 (from matplotlib)\n",
      "  Using cached cycler-0.12.1-py3-none-any.whl.metadata (3.8 kB)\n",
      "Collecting fonttools>=4.22.0 (from matplotlib)\n",
      "  Using cached fonttools-4.58.0-cp313-cp313-macosx_10_13_universal2.whl.metadata (104 kB)\n",
      "Collecting kiwisolver>=1.3.1 (from matplotlib)\n",
      "  Using cached kiwisolver-1.4.8-cp313-cp313-macosx_11_0_arm64.whl.metadata (6.2 kB)\n",
      "Requirement already satisfied: numpy>=1.23 in /Users/sidra/Main Data Drive/Car Prediction Model/Final Project- Car Prediction Model/.venv/lib/python3.13/site-packages (from matplotlib) (2.2.5)\n",
      "Requirement already satisfied: packaging>=20.0 in /Users/sidra/Main Data Drive/Car Prediction Model/Final Project- Car Prediction Model/.venv/lib/python3.13/site-packages (from matplotlib) (25.0)\n",
      "Collecting pillow>=8 (from matplotlib)\n",
      "  Using cached pillow-11.2.1-cp313-cp313-macosx_11_0_arm64.whl.metadata (8.9 kB)\n",
      "Collecting pyparsing>=2.3.1 (from matplotlib)\n",
      "  Using cached pyparsing-3.2.3-py3-none-any.whl.metadata (5.0 kB)\n",
      "Requirement already satisfied: python-dateutil>=2.7 in /Users/sidra/Main Data Drive/Car Prediction Model/Final Project- Car Prediction Model/.venv/lib/python3.13/site-packages (from matplotlib) (2.9.0.post0)\n",
      "Requirement already satisfied: six>=1.5 in /Users/sidra/Main Data Drive/Car Prediction Model/Final Project- Car Prediction Model/.venv/lib/python3.13/site-packages (from python-dateutil>=2.7->matplotlib) (1.17.0)\n",
      "Using cached matplotlib-3.10.3-cp313-cp313-macosx_11_0_arm64.whl (8.1 MB)\n",
      "Using cached contourpy-1.3.2-cp313-cp313-macosx_11_0_arm64.whl (255 kB)\n",
      "Using cached cycler-0.12.1-py3-none-any.whl (8.3 kB)\n",
      "Using cached fonttools-4.58.0-cp313-cp313-macosx_10_13_universal2.whl (2.7 MB)\n",
      "Using cached kiwisolver-1.4.8-cp313-cp313-macosx_11_0_arm64.whl (65 kB)\n",
      "Using cached pillow-11.2.1-cp313-cp313-macosx_11_0_arm64.whl (3.0 MB)\n",
      "Using cached pyparsing-3.2.3-py3-none-any.whl (111 kB)\n",
      "Installing collected packages: pyparsing, pillow, kiwisolver, fonttools, cycler, contourpy, matplotlib\n",
      "\u001b[2K   \u001b[90m━━━━━━━━━━━━━━━━━━━━━━━━━━━━━━━━━━━━━━━━\u001b[0m \u001b[32m7/7\u001b[0m [matplotlib]7\u001b[0m [matplotlib]\n",
      "\u001b[1A\u001b[2KSuccessfully installed contourpy-1.3.2 cycler-0.12.1 fonttools-4.58.0 kiwisolver-1.4.8 matplotlib-3.10.3 pillow-11.2.1 pyparsing-3.2.3\n"
     ]
    }
   ],
   "source": [
    "!pip install scikit-learn\n",
    "!pip install matplotlib"
   ]
  },
  {
   "cell_type": "code",
   "execution_count": null,
   "id": "751acd73",
   "metadata": {},
   "outputs": [],
   "source": [
    "!pip install pandas"
   ]
  },
  {
   "cell_type": "code",
   "execution_count": 29,
   "id": "53f7e2aa",
   "metadata": {},
   "outputs": [
    {
     "data": {
      "application/vnd.microsoft.datawrangler.viewer.v0+json": {
       "columns": [
        {
         "name": "index",
         "rawType": "int64",
         "type": "integer"
        },
        {
         "name": "price",
         "rawType": "int64",
         "type": "integer"
        },
        {
         "name": "year",
         "rawType": "float64",
         "type": "float"
        },
        {
         "name": "odometer",
         "rawType": "float64",
         "type": "float"
        },
        {
         "name": "manufacturer",
         "rawType": "object",
         "type": "unknown"
        },
        {
         "name": "fuel",
         "rawType": "object",
         "type": "unknown"
        },
        {
         "name": "transmission",
         "rawType": "object",
         "type": "unknown"
        },
        {
         "name": "drive",
         "rawType": "object",
         "type": "unknown"
        },
        {
         "name": "type",
         "rawType": "object",
         "type": "unknown"
        },
        {
         "name": "paint_color",
         "rawType": "object",
         "type": "unknown"
        }
       ],
       "conversionMethod": "pd.DataFrame",
       "ref": "2258c43f-7be2-4217-ba6b-2ac8aa380f65",
       "rows": [
        [
         "0",
         "6000",
         null,
         null,
         null,
         null,
         null,
         null,
         null,
         null
        ],
        [
         "1",
         "11900",
         null,
         null,
         null,
         null,
         null,
         null,
         null,
         null
        ],
        [
         "2",
         "21000",
         null,
         null,
         null,
         null,
         null,
         null,
         null,
         null
        ],
        [
         "3",
         "1500",
         null,
         null,
         null,
         null,
         null,
         null,
         null,
         null
        ],
        [
         "4",
         "4900",
         null,
         null,
         null,
         null,
         null,
         null,
         null,
         null
        ]
       ],
       "shape": {
        "columns": 9,
        "rows": 5
       }
      },
      "text/html": [
       "<div>\n",
       "<style scoped>\n",
       "    .dataframe tbody tr th:only-of-type {\n",
       "        vertical-align: middle;\n",
       "    }\n",
       "\n",
       "    .dataframe tbody tr th {\n",
       "        vertical-align: top;\n",
       "    }\n",
       "\n",
       "    .dataframe thead th {\n",
       "        text-align: right;\n",
       "    }\n",
       "</style>\n",
       "<table border=\"1\" class=\"dataframe\">\n",
       "  <thead>\n",
       "    <tr style=\"text-align: right;\">\n",
       "      <th></th>\n",
       "      <th>price</th>\n",
       "      <th>year</th>\n",
       "      <th>odometer</th>\n",
       "      <th>manufacturer</th>\n",
       "      <th>fuel</th>\n",
       "      <th>transmission</th>\n",
       "      <th>drive</th>\n",
       "      <th>type</th>\n",
       "      <th>paint_color</th>\n",
       "    </tr>\n",
       "  </thead>\n",
       "  <tbody>\n",
       "    <tr>\n",
       "      <th>0</th>\n",
       "      <td>6000</td>\n",
       "      <td>NaN</td>\n",
       "      <td>NaN</td>\n",
       "      <td>NaN</td>\n",
       "      <td>NaN</td>\n",
       "      <td>NaN</td>\n",
       "      <td>NaN</td>\n",
       "      <td>NaN</td>\n",
       "      <td>NaN</td>\n",
       "    </tr>\n",
       "    <tr>\n",
       "      <th>1</th>\n",
       "      <td>11900</td>\n",
       "      <td>NaN</td>\n",
       "      <td>NaN</td>\n",
       "      <td>NaN</td>\n",
       "      <td>NaN</td>\n",
       "      <td>NaN</td>\n",
       "      <td>NaN</td>\n",
       "      <td>NaN</td>\n",
       "      <td>NaN</td>\n",
       "    </tr>\n",
       "    <tr>\n",
       "      <th>2</th>\n",
       "      <td>21000</td>\n",
       "      <td>NaN</td>\n",
       "      <td>NaN</td>\n",
       "      <td>NaN</td>\n",
       "      <td>NaN</td>\n",
       "      <td>NaN</td>\n",
       "      <td>NaN</td>\n",
       "      <td>NaN</td>\n",
       "      <td>NaN</td>\n",
       "    </tr>\n",
       "    <tr>\n",
       "      <th>3</th>\n",
       "      <td>1500</td>\n",
       "      <td>NaN</td>\n",
       "      <td>NaN</td>\n",
       "      <td>NaN</td>\n",
       "      <td>NaN</td>\n",
       "      <td>NaN</td>\n",
       "      <td>NaN</td>\n",
       "      <td>NaN</td>\n",
       "      <td>NaN</td>\n",
       "    </tr>\n",
       "    <tr>\n",
       "      <th>4</th>\n",
       "      <td>4900</td>\n",
       "      <td>NaN</td>\n",
       "      <td>NaN</td>\n",
       "      <td>NaN</td>\n",
       "      <td>NaN</td>\n",
       "      <td>NaN</td>\n",
       "      <td>NaN</td>\n",
       "      <td>NaN</td>\n",
       "      <td>NaN</td>\n",
       "    </tr>\n",
       "  </tbody>\n",
       "</table>\n",
       "</div>"
      ],
      "text/plain": [
       "   price  year  odometer manufacturer fuel transmission drive type paint_color\n",
       "0   6000   NaN       NaN          NaN  NaN          NaN   NaN  NaN         NaN\n",
       "1  11900   NaN       NaN          NaN  NaN          NaN   NaN  NaN         NaN\n",
       "2  21000   NaN       NaN          NaN  NaN          NaN   NaN  NaN         NaN\n",
       "3   1500   NaN       NaN          NaN  NaN          NaN   NaN  NaN         NaN\n",
       "4   4900   NaN       NaN          NaN  NaN          NaN   NaN  NaN         NaN"
      ]
     },
     "execution_count": 29,
     "metadata": {},
     "output_type": "execute_result"
    }
   ],
   "source": [
    "import pandas as pd\n",
    "\n",
    "df = pd.read_csv('vehicles.csv')\n",
    "df = df[['price', 'year', 'odometer', 'manufacturer', 'fuel',\n",
    "         'transmission', 'drive', 'type', 'paint_color']]\n",
    "df.head()"
   ]
  },
  {
   "cell_type": "markdown",
   "id": "6a47fd44",
   "metadata": {},
   "source": [
    "**✅ Step 2: Explore the Dataset**"
   ]
  },
  {
   "cell_type": "code",
   "execution_count": 30,
   "id": "52c19719",
   "metadata": {},
   "outputs": [
    {
     "data": {
      "text/plain": [
       "<bound method DataFrame.info of         price    year  odometer manufacturer    fuel transmission drive  \\\n",
       "0        6000     NaN       NaN          NaN     NaN          NaN   NaN   \n",
       "1       11900     NaN       NaN          NaN     NaN          NaN   NaN   \n",
       "2       21000     NaN       NaN          NaN     NaN          NaN   NaN   \n",
       "3        1500     NaN       NaN          NaN     NaN          NaN   NaN   \n",
       "4        4900     NaN       NaN          NaN     NaN          NaN   NaN   \n",
       "...       ...     ...       ...          ...     ...          ...   ...   \n",
       "426875  23590  2019.0   32226.0       nissan     gas        other   fwd   \n",
       "426876  30590  2020.0   12029.0        volvo     gas        other   fwd   \n",
       "426877  34990  2020.0    4174.0     cadillac  diesel        other   NaN   \n",
       "426878  28990  2018.0   30112.0        lexus     gas        other   fwd   \n",
       "426879  30590  2019.0   22716.0          bmw     gas        other   rwd   \n",
       "\n",
       "             type paint_color  \n",
       "0             NaN         NaN  \n",
       "1             NaN         NaN  \n",
       "2             NaN         NaN  \n",
       "3             NaN         NaN  \n",
       "4             NaN         NaN  \n",
       "...           ...         ...  \n",
       "426875      sedan         NaN  \n",
       "426876      sedan         red  \n",
       "426877  hatchback       white  \n",
       "426878      sedan      silver  \n",
       "426879      coupe         NaN  \n",
       "\n",
       "[426880 rows x 9 columns]>"
      ]
     },
     "execution_count": 30,
     "metadata": {},
     "output_type": "execute_result"
    }
   ],
   "source": [
    "df.info"
   ]
  },
  {
   "cell_type": "code",
   "execution_count": 31,
   "id": "b74ac6b1",
   "metadata": {},
   "outputs": [
    {
     "data": {
      "text/plain": [
       "drive           130567\n",
       "paint_color     130203\n",
       "type             92858\n",
       "manufacturer     17646\n",
       "odometer          4400\n",
       "fuel              3013\n",
       "transmission      2556\n",
       "year              1205\n",
       "price                0\n",
       "dtype: int64"
      ]
     },
     "execution_count": 31,
     "metadata": {},
     "output_type": "execute_result"
    }
   ],
   "source": [
    "df.isnull().sum().sort_values(ascending=False)"
   ]
  },
  {
   "cell_type": "code",
   "execution_count": 32,
   "id": "2f74eb22",
   "metadata": {},
   "outputs": [
    {
     "data": {
      "application/vnd.microsoft.datawrangler.viewer.v0+json": {
       "columns": [
        {
         "name": "index",
         "rawType": "object",
         "type": "string"
        },
        {
         "name": "price",
         "rawType": "float64",
         "type": "float"
        },
        {
         "name": "year",
         "rawType": "float64",
         "type": "float"
        },
        {
         "name": "odometer",
         "rawType": "float64",
         "type": "float"
        }
       ],
       "conversionMethod": "pd.DataFrame",
       "ref": "e42000b6-36a8-491f-bed7-130b97124da1",
       "rows": [
        [
         "count",
         "426880.0",
         "425675.0",
         "422480.0"
        ],
        [
         "mean",
         "75199.0331873126",
         "2011.23519116697",
         "98043.33144290854"
        ],
        [
         "std",
         "12182282.173597954",
         "9.452119581503126",
         "213881.5007979891"
        ],
        [
         "min",
         "0.0",
         "1900.0",
         "0.0"
        ],
        [
         "25%",
         "5900.0",
         "2008.0",
         "37704.0"
        ],
        [
         "50%",
         "13950.0",
         "2013.0",
         "85548.0"
        ],
        [
         "75%",
         "26485.75",
         "2017.0",
         "133542.5"
        ],
        [
         "max",
         "3736928711.0",
         "2022.0",
         "10000000.0"
        ]
       ],
       "shape": {
        "columns": 3,
        "rows": 8
       }
      },
      "text/html": [
       "<div>\n",
       "<style scoped>\n",
       "    .dataframe tbody tr th:only-of-type {\n",
       "        vertical-align: middle;\n",
       "    }\n",
       "\n",
       "    .dataframe tbody tr th {\n",
       "        vertical-align: top;\n",
       "    }\n",
       "\n",
       "    .dataframe thead th {\n",
       "        text-align: right;\n",
       "    }\n",
       "</style>\n",
       "<table border=\"1\" class=\"dataframe\">\n",
       "  <thead>\n",
       "    <tr style=\"text-align: right;\">\n",
       "      <th></th>\n",
       "      <th>price</th>\n",
       "      <th>year</th>\n",
       "      <th>odometer</th>\n",
       "    </tr>\n",
       "  </thead>\n",
       "  <tbody>\n",
       "    <tr>\n",
       "      <th>count</th>\n",
       "      <td>4.268800e+05</td>\n",
       "      <td>425675.000000</td>\n",
       "      <td>4.224800e+05</td>\n",
       "    </tr>\n",
       "    <tr>\n",
       "      <th>mean</th>\n",
       "      <td>7.519903e+04</td>\n",
       "      <td>2011.235191</td>\n",
       "      <td>9.804333e+04</td>\n",
       "    </tr>\n",
       "    <tr>\n",
       "      <th>std</th>\n",
       "      <td>1.218228e+07</td>\n",
       "      <td>9.452120</td>\n",
       "      <td>2.138815e+05</td>\n",
       "    </tr>\n",
       "    <tr>\n",
       "      <th>min</th>\n",
       "      <td>0.000000e+00</td>\n",
       "      <td>1900.000000</td>\n",
       "      <td>0.000000e+00</td>\n",
       "    </tr>\n",
       "    <tr>\n",
       "      <th>25%</th>\n",
       "      <td>5.900000e+03</td>\n",
       "      <td>2008.000000</td>\n",
       "      <td>3.770400e+04</td>\n",
       "    </tr>\n",
       "    <tr>\n",
       "      <th>50%</th>\n",
       "      <td>1.395000e+04</td>\n",
       "      <td>2013.000000</td>\n",
       "      <td>8.554800e+04</td>\n",
       "    </tr>\n",
       "    <tr>\n",
       "      <th>75%</th>\n",
       "      <td>2.648575e+04</td>\n",
       "      <td>2017.000000</td>\n",
       "      <td>1.335425e+05</td>\n",
       "    </tr>\n",
       "    <tr>\n",
       "      <th>max</th>\n",
       "      <td>3.736929e+09</td>\n",
       "      <td>2022.000000</td>\n",
       "      <td>1.000000e+07</td>\n",
       "    </tr>\n",
       "  </tbody>\n",
       "</table>\n",
       "</div>"
      ],
      "text/plain": [
       "              price           year      odometer\n",
       "count  4.268800e+05  425675.000000  4.224800e+05\n",
       "mean   7.519903e+04    2011.235191  9.804333e+04\n",
       "std    1.218228e+07       9.452120  2.138815e+05\n",
       "min    0.000000e+00    1900.000000  0.000000e+00\n",
       "25%    5.900000e+03    2008.000000  3.770400e+04\n",
       "50%    1.395000e+04    2013.000000  8.554800e+04\n",
       "75%    2.648575e+04    2017.000000  1.335425e+05\n",
       "max    3.736929e+09    2022.000000  1.000000e+07"
      ]
     },
     "execution_count": 32,
     "metadata": {},
     "output_type": "execute_result"
    }
   ],
   "source": [
    "df.describe()"
   ]
  },
  {
   "cell_type": "markdown",
   "id": "cb001445",
   "metadata": {},
   "source": [
    "✅ **Step 3: Choose Relevant Columns**\n",
    "\n",
    "Let’s keep only the columns that are:\n",
    "\n",
    "-\tCommonly used to predict price\n",
    "-\tHave few or no missing values\n",
    "-\tAre relatively clean or easy to process"
   ]
  },
  {
   "cell_type": "markdown",
   "id": "9e277579",
   "metadata": {},
   "source": [
    "**🧹 Step 4: Clean and Prepare the Data**"
   ]
  },
  {
   "cell_type": "code",
   "execution_count": 33,
   "id": "3a4b9f49",
   "metadata": {},
   "outputs": [
    {
     "name": "stdout",
     "output_type": "stream",
     "text": [
      "Final cleaned dataset shape: (104164, 11)\n"
     ]
    },
    {
     "data": {
      "application/vnd.microsoft.datawrangler.viewer.v0+json": {
       "columns": [
        {
         "name": "index",
         "rawType": "int64",
         "type": "integer"
        },
        {
         "name": "price",
         "rawType": "int64",
         "type": "integer"
        },
        {
         "name": "year",
         "rawType": "float64",
         "type": "float"
        },
        {
         "name": "odometer",
         "rawType": "float64",
         "type": "float"
        },
        {
         "name": "manufacturer",
         "rawType": "object",
         "type": "string"
        },
        {
         "name": "fuel",
         "rawType": "object",
         "type": "string"
        },
        {
         "name": "transmission",
         "rawType": "object",
         "type": "string"
        },
        {
         "name": "drive",
         "rawType": "object",
         "type": "string"
        },
        {
         "name": "type",
         "rawType": "object",
         "type": "string"
        },
        {
         "name": "paint_color",
         "rawType": "object",
         "type": "string"
        },
        {
         "name": "condition",
         "rawType": "object",
         "type": "string"
        },
        {
         "name": "cylinders",
         "rawType": "object",
         "type": "string"
        }
       ],
       "conversionMethod": "pd.DataFrame",
       "ref": "42323434-5fa9-4788-b3d2-a5ac703751c3",
       "rows": [
        [
         "0",
         "15000",
         "2013.0",
         "128000.0",
         "ford",
         "gas",
         "automatic",
         "rwd",
         "truck",
         "black",
         "excellent",
         "6 cylinders"
        ],
        [
         "1",
         "27990",
         "2012.0",
         "68696.0",
         "gmc",
         "gas",
         "other",
         "4wd",
         "pickup",
         "black",
         "good",
         "8 cylinders"
        ],
        [
         "2",
         "34590",
         "2016.0",
         "29499.0",
         "chevrolet",
         "gas",
         "other",
         "4wd",
         "pickup",
         "silver",
         "good",
         "6 cylinders"
        ],
        [
         "3",
         "35000",
         "2019.0",
         "43000.0",
         "toyota",
         "gas",
         "automatic",
         "4wd",
         "truck",
         "grey",
         "excellent",
         "6 cylinders"
        ],
        [
         "4",
         "29990",
         "2016.0",
         "17302.0",
         "chevrolet",
         "gas",
         "other",
         "4wd",
         "pickup",
         "red",
         "good",
         "6 cylinders"
        ]
       ],
       "shape": {
        "columns": 11,
        "rows": 5
       }
      },
      "text/html": [
       "<div>\n",
       "<style scoped>\n",
       "    .dataframe tbody tr th:only-of-type {\n",
       "        vertical-align: middle;\n",
       "    }\n",
       "\n",
       "    .dataframe tbody tr th {\n",
       "        vertical-align: top;\n",
       "    }\n",
       "\n",
       "    .dataframe thead th {\n",
       "        text-align: right;\n",
       "    }\n",
       "</style>\n",
       "<table border=\"1\" class=\"dataframe\">\n",
       "  <thead>\n",
       "    <tr style=\"text-align: right;\">\n",
       "      <th></th>\n",
       "      <th>price</th>\n",
       "      <th>year</th>\n",
       "      <th>odometer</th>\n",
       "      <th>manufacturer</th>\n",
       "      <th>fuel</th>\n",
       "      <th>transmission</th>\n",
       "      <th>drive</th>\n",
       "      <th>type</th>\n",
       "      <th>paint_color</th>\n",
       "      <th>condition</th>\n",
       "      <th>cylinders</th>\n",
       "    </tr>\n",
       "  </thead>\n",
       "  <tbody>\n",
       "    <tr>\n",
       "      <th>0</th>\n",
       "      <td>15000</td>\n",
       "      <td>2013.0</td>\n",
       "      <td>128000.0</td>\n",
       "      <td>ford</td>\n",
       "      <td>gas</td>\n",
       "      <td>automatic</td>\n",
       "      <td>rwd</td>\n",
       "      <td>truck</td>\n",
       "      <td>black</td>\n",
       "      <td>excellent</td>\n",
       "      <td>6 cylinders</td>\n",
       "    </tr>\n",
       "    <tr>\n",
       "      <th>1</th>\n",
       "      <td>27990</td>\n",
       "      <td>2012.0</td>\n",
       "      <td>68696.0</td>\n",
       "      <td>gmc</td>\n",
       "      <td>gas</td>\n",
       "      <td>other</td>\n",
       "      <td>4wd</td>\n",
       "      <td>pickup</td>\n",
       "      <td>black</td>\n",
       "      <td>good</td>\n",
       "      <td>8 cylinders</td>\n",
       "    </tr>\n",
       "    <tr>\n",
       "      <th>2</th>\n",
       "      <td>34590</td>\n",
       "      <td>2016.0</td>\n",
       "      <td>29499.0</td>\n",
       "      <td>chevrolet</td>\n",
       "      <td>gas</td>\n",
       "      <td>other</td>\n",
       "      <td>4wd</td>\n",
       "      <td>pickup</td>\n",
       "      <td>silver</td>\n",
       "      <td>good</td>\n",
       "      <td>6 cylinders</td>\n",
       "    </tr>\n",
       "    <tr>\n",
       "      <th>3</th>\n",
       "      <td>35000</td>\n",
       "      <td>2019.0</td>\n",
       "      <td>43000.0</td>\n",
       "      <td>toyota</td>\n",
       "      <td>gas</td>\n",
       "      <td>automatic</td>\n",
       "      <td>4wd</td>\n",
       "      <td>truck</td>\n",
       "      <td>grey</td>\n",
       "      <td>excellent</td>\n",
       "      <td>6 cylinders</td>\n",
       "    </tr>\n",
       "    <tr>\n",
       "      <th>4</th>\n",
       "      <td>29990</td>\n",
       "      <td>2016.0</td>\n",
       "      <td>17302.0</td>\n",
       "      <td>chevrolet</td>\n",
       "      <td>gas</td>\n",
       "      <td>other</td>\n",
       "      <td>4wd</td>\n",
       "      <td>pickup</td>\n",
       "      <td>red</td>\n",
       "      <td>good</td>\n",
       "      <td>6 cylinders</td>\n",
       "    </tr>\n",
       "  </tbody>\n",
       "</table>\n",
       "</div>"
      ],
      "text/plain": [
       "   price    year  odometer manufacturer fuel transmission drive    type  \\\n",
       "0  15000  2013.0  128000.0         ford  gas    automatic   rwd   truck   \n",
       "1  27990  2012.0   68696.0          gmc  gas        other   4wd  pickup   \n",
       "2  34590  2016.0   29499.0    chevrolet  gas        other   4wd  pickup   \n",
       "3  35000  2019.0   43000.0       toyota  gas    automatic   4wd   truck   \n",
       "4  29990  2016.0   17302.0    chevrolet  gas        other   4wd  pickup   \n",
       "\n",
       "  paint_color  condition    cylinders  \n",
       "0       black  excellent  6 cylinders  \n",
       "1       black       good  8 cylinders  \n",
       "2      silver       good  6 cylinders  \n",
       "3        grey  excellent  6 cylinders  \n",
       "4         red       good  6 cylinders  "
      ]
     },
     "execution_count": 33,
     "metadata": {},
     "output_type": "execute_result"
    }
   ],
   "source": [
    "import pandas as pd\n",
    "\n",
    "# Load the dataset\n",
    "df = pd.read_csv('vehicles.csv')\n",
    "\n",
    "# ✅ Select relevant columns including new ones\n",
    "df = df[['price', 'year', 'odometer', 'manufacturer', 'fuel',\n",
    "         'transmission', 'drive', 'type', 'paint_color', 'condition', 'cylinders']]\n",
    "\n",
    "# ✅ Drop rows with missing values\n",
    "df = df.dropna()\n",
    "\n",
    "# ✅ Remove unrealistic prices and values\n",
    "df = df[(df['price'] > 1000) & (df['price'] < 60000)]\n",
    "df = df[(df['odometer'] < 300000) & (df['year'] > 1990)]\n",
    "\n",
    "# ✅ Reset index\n",
    "df.reset_index(drop=True, inplace=True)\n",
    "\n",
    "# ✅ Check shape\n",
    "print(\"Final cleaned dataset shape:\", df.shape)\n",
    "df.head()"
   ]
  },
  {
   "cell_type": "markdown",
   "id": "3476a549",
   "metadata": {},
   "source": [
    "✅ **Step 5: Encode Categorical Columns**\n",
    "\n",
    "Dataset still includes text columns like fuel, transmission, drive, etc.\n",
    "To use them in a machine learning model, we need to convert them to numbers using OneHotEncoding."
   ]
  },
  {
   "cell_type": "markdown",
   "id": "a962ce3e",
   "metadata": {},
   "source": [
    "🔹 Define Features (X) and Target (y)"
   ]
  },
  {
   "cell_type": "code",
   "execution_count": 34,
   "id": "9afa366a",
   "metadata": {},
   "outputs": [],
   "source": [
    "X = df.drop(columns='price')  # all input features\n",
    "y = df['price']               # target variable"
   ]
  },
  {
   "cell_type": "markdown",
   "id": "08bbb772",
   "metadata": {},
   "source": [
    "🔹 Check Column Types"
   ]
  },
  {
   "cell_type": "code",
   "execution_count": 35,
   "id": "53e7c8c6",
   "metadata": {},
   "outputs": [
    {
     "data": {
      "text/plain": [
       "year            float64\n",
       "odometer        float64\n",
       "manufacturer     object\n",
       "fuel             object\n",
       "transmission     object\n",
       "drive            object\n",
       "type             object\n",
       "paint_color      object\n",
       "condition        object\n",
       "cylinders        object\n",
       "dtype: object"
      ]
     },
     "execution_count": 35,
     "metadata": {},
     "output_type": "execute_result"
    }
   ],
   "source": [
    "#This helps confirm which columns are categorical.\n",
    "\n",
    "X.dtypes\n"
   ]
  },
  {
   "cell_type": "markdown",
   "id": "bf14e184",
   "metadata": {},
   "source": [
    "**✅ Step 6: Build the ML Pipeline**"
   ]
  },
  {
   "cell_type": "code",
   "execution_count": 37,
   "id": "fb8a0dc1",
   "metadata": {},
   "outputs": [
    {
     "name": "stdout",
     "output_type": "stream",
     "text": [
      "RMSE: 5686.25\n",
      "R² Score: 0.78\n"
     ]
    }
   ],
   "source": [
    "# ✅ Step 1: Install and import libraries\n",
    "# !pip install scikit-learn pandas numpy matplotlib seaborn\n",
    "\n",
    "import pandas as pd\n",
    "import numpy as np\n",
    "from sklearn.model_selection import train_test_split\n",
    "from sklearn.preprocessing import OneHotEncoder, StandardScaler\n",
    "from sklearn.compose import ColumnTransformer\n",
    "from sklearn.pipeline import Pipeline\n",
    "from sklearn.ensemble import RandomForestRegressor\n",
    "from sklearn.linear_model import LinearRegression\n",
    "from sklearn.metrics import mean_squared_error, r2_score\n",
    "\n",
    "# ✅ Step 2: Load and explore the dataset\n",
    "df = pd.read_csv('vehicles.csv')\n",
    "df = df[['price', 'year', 'odometer', 'manufacturer', 'fuel',\n",
    "         'transmission', 'drive', 'type', 'paint_color', 'condition', 'cylinders']]\n",
    "df = df.dropna()\n",
    "# ✅ Remove unrealistic prices and values\n",
    "df = df[(df['price'] > 1000) & (df['price'] < 60000)]\n",
    "df = df[(df['odometer'] < 300000) & (df['year'] > 1990)]\n",
    "df.reset_index(drop=True, inplace=True)\n",
    "\n",
    "# ✅ Step 3: Define features and target\n",
    "X = df.drop(columns='price')\n",
    "y = df['price']\n",
    "\n",
    "# ✅ Step 4: Specify column types\n",
    "categorical_cols = ['manufacturer', 'fuel', 'transmission', 'drive',\n",
    "                    'type', 'paint_color', 'condition', 'cylinders']\n",
    "numeric_cols = ['year', 'odometer']\n",
    "\n",
    "# ✅ Step 5: Create preprocessing pipeline\n",
    "categorical_transformer = OneHotEncoder(handle_unknown='ignore')\n",
    "numeric_transformer = StandardScaler()\n",
    "\n",
    "preprocessor = ColumnTransformer(\n",
    "    transformers=[\n",
    "        ('num', numeric_transformer, numeric_cols),\n",
    "        ('cat', categorical_transformer, categorical_cols)\n",
    "    ])\n",
    "\n",
    "# ✅ Step 6: Choose model (change this to LinearRegression() or RandomForestRegressor())\n",
    "regressor = LinearRegression()\n",
    "# regressor = RandomForestRegressor(n_estimators=100, random_state=42)  # Optional\n",
    "\n",
    "model = Pipeline(steps=[\n",
    "    ('preprocessor', preprocessor),\n",
    "    ('regressor', regressor)\n",
    "])\n",
    "\n",
    "# ✅ Step 7: Split data\n",
    "X_train, X_test, y_train, y_test = train_test_split(X, y, test_size=0.2, random_state=42)\n",
    "\n",
    "# ✅ Step 8: Train the model\n",
    "model.fit(X_train, y_train)\n",
    "\n",
    "# ✅ Step 9: Predict and evaluate\n",
    "y_pred = model.predict(X_test)\n",
    "rmse = np.sqrt(mean_squared_error(y_test, y_pred))\n",
    "r2 = r2_score(y_test, y_pred)\n",
    "\n",
    "print(f\"RMSE: {rmse:.2f}\")\n",
    "print(f\"R² Score: {r2:.2f}\")"
   ]
  },
  {
   "cell_type": "code",
   "execution_count": 38,
   "id": "446c5c75",
   "metadata": {},
   "outputs": [
    {
     "data": {
      "text/plain": [
       "Text(0.5, 1.0, 'Price Distribution')"
      ]
     },
     "execution_count": 38,
     "metadata": {},
     "output_type": "execute_result"
    },
    {
     "data": {
      "image/png": "[encoded data removed]",
      "text/plain": [
       "<Figure size 640x480 with 1 Axes>"
      ]
     },
     "metadata": {},
     "output_type": "display_data"
    }
   ],
   "source": [
    "import matplotlib.pyplot as plt\n",
    "df['price'].hist(bins=50)\n",
    "plt.title(\"Price Distribution\")"
   ]
  }
 ],
 "metadata": {
  "kernelspec": {
   "display_name": ".venv",
   "language": "python",
   "name": "python3"
  },
  "language_info": {
   "codemirror_mode": {
    "name": "ipython",
    "version": 3
   },
   "file_extension": ".py",
   "mimetype": "text/x-python",
   "name": "python",
   "nbconvert_exporter": "python",
   "pygments_lexer": "ipython3",
   "version": "3.13.2"
  }
 },
 "nbformat": 4,
 "nbformat_minor": 5
}
